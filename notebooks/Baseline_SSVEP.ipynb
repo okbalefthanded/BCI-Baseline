{
  "nbformat": 4,
  "nbformat_minor": 0,
  "metadata": {
    "colab": {
      "name": "Baseline_SSVEP.ipynb",
      "provenance": [],
      "collapsed_sections": []
    },
    "kernelspec": {
      "name": "python3",
      "display_name": "Python 3"
    },
    "language_info": {
      "name": "python"
    }
  },
  "cells": [
    {
      "cell_type": "markdown",
      "metadata": {
        "id": "WIxxTqjX9-rT"
      },
      "source": [
        "# Introduction\n",
        "In this notebook, we will demonstrate the classification of EEG based Brain-Computer Interface data from a SSVEP experiment.\n",
        "\n",
        "Two classification methods impletemented in the open source [BCI-Baseline](https://github.com/okbalefthanded/BCI-Baseline) library are evaluated on\n",
        "a single subject data taken from the Tsinghua SSVEP benchmark [1].\n",
        "\n",
        "## Methods:\n",
        "* Canonical Correlation Analysis [2]\n",
        "\n",
        "* Task-Related Component Analysis [3]\n",
        "\n",
        "## Data : \n",
        "--\n",
        "\n",
        "**References**\n",
        "\n",
        "[1] Y. Wang, X. Chen, X. Gao, S. Gao, A Benchmark Dataset for SSVEP-Based \n",
        "    Brain-Computer Interfaces, IEEE Trans. Neural Syst. Rehabil. \n",
        "    Eng. 4320 (2016) 1–1. doi:10.1109/TNSRE.2016.2627556\n",
        "\n",
        "[2] Z. Lin, C. Zhang, W. Wu, and X. Gao, “Frequency Recognition Based on Canonical Correlation Analysis for SSVEP-Based BCIs,” vol. 53, no. 12, pp. 2610–2614, 2006.\n",
        "\n",
        "[3] M. Nakanishi, Y. Wang, X. Chen, Y. -T. Wang, X. Gao, and T.-P. Jung,\n",
        "    \"Enhancing detection of SSVEPs for a high-speed brain speller using\n",
        "    task-related component analysis\", IEEE Trans. Biomed. Eng, 65(1): 104-112, 2018.\n",
        "    http://ieeexplore.ieee.org/document/7904641/"
      ]
    },
    {
      "cell_type": "markdown",
      "metadata": {
        "id": "MgPYwCO46utN"
      },
      "source": [
        "# 1. Install and import packages\n"
      ]
    },
    {
      "cell_type": "code",
      "metadata": {
        "id": "rO5N5mb9Btrb",
        "colab": {
          "base_uri": "https://localhost:8080/"
        },
        "outputId": "5fdeb931-8908-451f-aa93-669711930327"
      },
      "source": [
        "!pip install git+https://github.com/okbalefthanded/BCI-Baseline.git"
      ],
      "execution_count": 1,
      "outputs": [
        {
          "output_type": "stream",
          "text": [
            "Collecting git+https://github.com/okbalefthanded/BCI-Baseline.git\n",
            "  Cloning https://github.com/okbalefthanded/BCI-Baseline.git to /tmp/pip-req-build-azvm9hpr\n",
            "  Running command git clone -q https://github.com/okbalefthanded/BCI-Baseline.git /tmp/pip-req-build-azvm9hpr\n",
            "Building wheels for collected packages: BCI-baseline\n",
            "  Building wheel for BCI-baseline (setup.py) ... \u001b[?25l\u001b[?25hdone\n",
            "  Created wheel for BCI-baseline: filename=BCI_baseline-0.1.0-py3-none-any.whl size=16435 sha256=7866dab76ec2cd9885c836743f7762a82d6b9293d4fe57784313cf903ee106a5\n",
            "  Stored in directory: /tmp/pip-ephem-wheel-cache-_c4ufdro/wheels/b1/11/90/8fea6b75837cbc822655a5526c89cd941488734faa41d677ff\n",
            "Successfully built BCI-baseline\n",
            "Installing collected packages: BCI-baseline\n",
            "Successfully installed BCI-baseline-0.1.0\n"
          ],
          "name": "stdout"
        }
      ]
    },
    {
      "cell_type": "code",
      "metadata": {
        "id": "lFkFjgZXBzsi"
      },
      "source": [
        "import pandas as pd\n",
        "import numpy as np\n",
        "import random\n",
        "# \n",
        "from baseline.ssvep.cca import CCA\n",
        "from baseline.ssvep.trca import TRCA\n",
        "from sklearn.metrics import accuracy_score\n",
        "from scipy.io import loadmat\n",
        "# set seeds\n",
        "np.random.seed(42)\n",
        "random.seed(42)"
      ],
      "execution_count": 2,
      "outputs": []
    },
    {
      "cell_type": "markdown",
      "metadata": {
        "id": "Om2I9E7x60DU"
      },
      "source": [
        "# 2. Download Data"
      ]
    },
    {
      "cell_type": "code",
      "metadata": {
        "id": "KEN5Tch76VnT",
        "colab": {
          "base_uri": "https://localhost:8080/"
        },
        "outputId": "87c511ba-e10c-4b2a-f226-8f73922fc086"
      },
      "source": [
        "!wget -r --no-parent ftp://anonymous@sccn.ucsd.edu/pub/ssvep_benchmark_dataset/S27.mat"
      ],
      "execution_count": 3,
      "outputs": [
        {
          "output_type": "stream",
          "text": [
            "--2021-08-02 19:09:30--  ftp://anonymous@sccn.ucsd.edu/pub/ssvep_benchmark_dataset/S27.mat\n",
            "           => ‘sccn.ucsd.edu/pub/ssvep_benchmark_dataset/.listing’\n",
            "Resolving sccn.ucsd.edu (sccn.ucsd.edu)... 169.228.38.2\n",
            "Connecting to sccn.ucsd.edu (sccn.ucsd.edu)|169.228.38.2|:21... connected.\n",
            "Logging in as anonymous ... Logged in!\n",
            "==> SYST ... done.    ==> PWD ... done.\n",
            "==> TYPE I ... done.  ==> CWD (1) /pub/ssvep_benchmark_dataset ... done.\n",
            "==> PASV ... done.    ==> LIST ... done.\n",
            "\n",
            "sccn.ucsd.edu/pub/s     [ <=>                ]   2.78K  --.-KB/s    in 0s      \n",
            "\n",
            "2021-08-02 19:09:31 (5.66 MB/s) - ‘sccn.ucsd.edu/pub/ssvep_benchmark_dataset/.listing’ saved [2850]\n",
            "\n",
            "Removed ‘sccn.ucsd.edu/pub/ssvep_benchmark_dataset/.listing’.\n",
            "--2021-08-02 19:09:31--  ftp://anonymous@sccn.ucsd.edu/pub/ssvep_benchmark_dataset/S27.mat\n",
            "           => ‘sccn.ucsd.edu/pub/ssvep_benchmark_dataset/S27.mat’\n",
            "==> CWD not required.\n",
            "==> PASV ... done.    ==> RETR S27.mat ... done.\n",
            "Length: 105744153 (101M)\n",
            "\n",
            "sccn.ucsd.edu/pub/s 100%[===================>] 100.84M  36.3MB/s    in 2.8s    \n",
            "\n",
            "2021-08-02 19:09:34 (36.3 MB/s) - ‘sccn.ucsd.edu/pub/ssvep_benchmark_dataset/S27.mat’ saved [105744153]\n",
            "\n",
            "FINISHED --2021-08-02 19:09:34--\n",
            "Total wall clock time: 3.9s\n",
            "Downloaded: 1 files, 101M in 2.8s (36.3 MB/s)\n"
          ],
          "name": "stdout"
        }
      ]
    },
    {
      "cell_type": "code",
      "metadata": {
        "id": "QH1ZBsIrBqiV"
      },
      "source": [
        "folder = 'sccn.ucsd.edu/pub/ssvep_benchmark_dataset'"
      ],
      "execution_count": 4,
      "outputs": []
    },
    {
      "cell_type": "code",
      "metadata": {
        "id": "TXe-JNg-QY9P",
        "colab": {
          "base_uri": "https://localhost:8080/"
        },
        "outputId": "2d2ea1ce-997c-49c3-d326-e47c07392d28"
      },
      "source": [
        "# (1: Pz, 2: PO5,3:  PO3, 4: POz, 5: PO4, 6: PO6, 7: O1, 8: Oz, and 9: O2)\n",
        "ch_names=[ 'FP1', 'FPZ', 'FP2', 'AF3', 'AF4', 'F7', 'F5', 'F3',\n",
        "           'F1', 'FZ', 'F2', 'F4', 'F6', 'F8', 'FT7', 'FC5',\n",
        "            'FC3', 'FC1', 'FCz', 'FC2', 'FC4', 'FC6', 'FT8', 'T7',\n",
        "            'C5', 'C3', 'C1', 'Cz', 'C2', 'C4', 'C6', 'T8', 'M1',\n",
        "            'TP7', 'CP5', 'CP3', 'CP1', 'CPZ', 'CP2', 'CP4', 'CP6',\n",
        "            'TP8', 'M2', 'P7', 'P5', 'P3', 'P1', 'PZ', 'P2',\n",
        "            'P4', 'P6', 'P8', 'PO7', 'PO5', 'PO3', 'POz', 'PO4',\n",
        "              'PO6', 'PO8', 'CB1', 'O1', 'Oz', 'O2', 'CB2']\n",
        "chs = [47,53, 54,55,56,57,60,61,62]\n",
        "[ch_names[c] for c in chs]"
      ],
      "execution_count": 25,
      "outputs": [
        {
          "output_type": "execute_result",
          "data": {
            "text/plain": [
              "['PZ', 'PO5', 'PO3', 'POz', 'PO4', 'PO6', 'O1', 'Oz', 'O2']"
            ]
          },
          "metadata": {
            "tags": []
          },
          "execution_count": 25
        }
      ]
    },
    {
      "cell_type": "code",
      "metadata": {
        "id": "fZSveg5M62eu"
      },
      "source": [
        "data = loadmat(f\"{folder}/S27.mat\")\n",
        "fs = 250\n",
        "eeg = data['data'].transpose((1, 0, 2, 3))\n",
        "eeg = eeg[159:284, chs, :, :] # 500 ms from cue onset\n",
        "samples, channels, targets, blocks = eeg.shape\n",
        "y_train = np.tile(np.arange(1, targets + 1), (1, blocks-1)).squeeze()\n",
        "y_test = np.arange(1, targets + 1)"
      ],
      "execution_count": 26,
      "outputs": []
    },
    {
      "cell_type": "markdown",
      "metadata": {
        "id": "yP6hsc3p624q"
      },
      "source": [
        "# 3. Evaluation\n"
      ]
    },
    {
      "cell_type": "code",
      "metadata": {
        "id": "GGp4R1oVCoEB"
      },
      "source": [
        "def loo_evaluation(eeg, y_train, y_test, clf):\n",
        "  accs = []\n",
        "  samples, channels, targets, blocks = eeg.shape\n",
        "  for loocvi in range(blocks):    \n",
        "    x_train = np.delete(eeg, loocvi, axis=-1).reshape((samples, channels, blocks-1*targets), order='F')\n",
        "    x_test = eeg[:,:,:,loocvi]    \n",
        "    clf = clf.fit(x_train, y_train)\n",
        "    p1 = clf.predict(x_train, y_train) \n",
        "    p2 = clf.predict(x_test, y_test)\n",
        "    train_acc = accuracy_score(y_train, p1+1)\n",
        "    test_acc = accuracy_score(y_test, p2+1)\n",
        "    accs.append(test_acc)\n",
        "    print(f'train acc {train_acc*100:.2f} % test acc {test_acc*100:.2f}% ')\n",
        "  print(f'Mean accuracy {np.array(accs).mean().round(3)*100} % ')"
      ],
      "execution_count": 56,
      "outputs": []
    },
    {
      "cell_type": "markdown",
      "metadata": {
        "id": "a8afTGS-65r8"
      },
      "source": [
        "# 3.1 CCA"
      ]
    },
    {
      "cell_type": "code",
      "metadata": {
        "id": "GYMrc0zWD1um",
        "colab": {
          "base_uri": "https://localhost:8080/"
        },
        "outputId": "cdfa501c-abd5-4f12-81ab-fe0609f9fb88"
      },
      "source": [
        "frequencies=[8., 9., 10., 11., 12., 13., 14., 15., 8.2, 9.2,\n",
        "            10.2, 11.2, 12.2, 13.2, 14.2, 15.2, 8.4, 9.4, 10.4, 11.4,\n",
        "            12.4, 13.4, 14.4, 15.4, 8.6, 9.6, 10.6, 11.6, 12.6, 13.6,\n",
        "              14.6, 15.6, 8.8, 9.8, 10.8, 11.8, 12.8, 13.8, 14.8, 15.8]\n",
        "\n",
        "phase=[0., 1.57079633, 3.14159265, 4.71238898, 0.,\n",
        "      1.57079633, 3.14159265, 4.71238898, 1.57079633, 3.14159265,\n",
        "      4.71238898, 0., 1.57079633, 3.14159265, 4.71238898,\n",
        "      0., 3.14159265, 4.71238898, 0., 1.57079633,\n",
        "      3.14159265, 4.71238898, 0., 1.57079633, 4.71238898,\n",
        "      0., 1.57079633, 3.14159265, 4.71238898, 0.,\n",
        "      1.57079633, 3.14159265, 0., 1.57079633, 3.14159265,\n",
        "      4.71238898, 0., 1.57079633, 3.14159265, 4.71238898]\n",
        "      \n",
        "clf = CCA(n_harmonics=2, frequencies=frequencies, length=samples/fs)\n",
        "X = eeg.reshape((samples, channels, blocks*targets), order='F').transpose((1,0,2))\n",
        "Y = np.concatenate((y_train, y_test))\n",
        "clf.fit(X)\n",
        "pr = []\n",
        "for tr in range(X.shape[2]):\n",
        "      pr.append(clf.predict(X[:,:,tr])+1)\n",
        "acc = accuracy_score(Y, pr)\n",
        "    \n",
        "print(f'CCA Accuracy:  {acc*100:.2f} %')"
      ],
      "execution_count": 55,
      "outputs": [
        {
          "output_type": "stream",
          "text": [
            "CCA Accuracy:  14.58 %\n"
          ],
          "name": "stdout"
        }
      ]
    },
    {
      "cell_type": "markdown",
      "metadata": {
        "id": "xG0K-iFH68vC"
      },
      "source": [
        "# 3.2 Task-Related Component Analysis"
      ]
    },
    {
      "cell_type": "markdown",
      "metadata": {
        "id": "g__xm9XPYnE4"
      },
      "source": [
        "## 3.2.1 TRCA"
      ]
    },
    {
      "cell_type": "code",
      "metadata": {
        "colab": {
          "base_uri": "https://localhost:8080/"
        },
        "id": "jz41x47OVa6I",
        "outputId": "e163e31a-0346-4902-9386-30a0e849dcd3"
      },
      "source": [
        "clf =  TRCA(5, False, fs)\n",
        "loo_evaluation(eeg, y_train, y_test, clf)"
      ],
      "execution_count": 57,
      "outputs": [
        {
          "output_type": "stream",
          "text": [
            "train acc 100.00 % test acc 72.50% \n",
            "train acc 100.00 % test acc 92.50% \n",
            "train acc 100.00 % test acc 75.00% \n",
            "train acc 100.00 % test acc 82.50% \n",
            "train acc 100.00 % test acc 80.00% \n",
            "train acc 100.00 % test acc 77.50% \n",
            "Mean accuracy 80.0 % \n"
          ],
          "name": "stdout"
        }
      ]
    },
    {
      "cell_type": "markdown",
      "metadata": {
        "id": "LeU1xbuXYqaX"
      },
      "source": [
        "## 3.2.2 ensemble TRCA"
      ]
    },
    {
      "cell_type": "code",
      "metadata": {
        "id": "wV--v8mJ65Jj",
        "colab": {
          "base_uri": "https://localhost:8080/"
        },
        "outputId": "712c64f8-d0a1-4f21-a001-ae64197dcf65"
      },
      "source": [
        "clf =  TRCA(5, True, fs)\n",
        "loo_evaluation(eeg, y_train, y_test, clf)"
      ],
      "execution_count": 58,
      "outputs": [
        {
          "output_type": "stream",
          "text": [
            "train acc 100.00 % test acc 87.50% \n",
            "train acc 100.00 % test acc 97.50% \n",
            "train acc 100.00 % test acc 100.00% \n",
            "train acc 100.00 % test acc 95.00% \n",
            "train acc 100.00 % test acc 87.50% \n",
            "train acc 100.00 % test acc 92.50% \n",
            "Mean accuracy 93.30000000000001 % \n"
          ],
          "name": "stdout"
        }
      ]
    },
    {
      "cell_type": "code",
      "metadata": {
        "id": "ML9bvEz5O3qk"
      },
      "source": [
        ""
      ],
      "execution_count": null,
      "outputs": []
    }
  ]
}